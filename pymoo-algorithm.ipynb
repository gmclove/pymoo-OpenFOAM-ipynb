{
 "cells": [
  {
   "cell_type": "markdown",
   "metadata": {},
   "source": [
    "### Install Python Packages\n",
    "\n",
    "Only execute during first run on new machine "
   ]
  },
  {
   "cell_type": "code",
   "execution_count": 1,
   "metadata": {},
   "outputs": [],
   "source": [
    "# Common python packages \n",
    "#pip install numpy\n",
    "#pip install os"
   ]
  },
  {
   "cell_type": "code",
   "execution_count": 2,
   "metadata": {},
   "outputs": [],
   "source": [
    "#pip install pymoo\n",
    "#pip install pyfoam\n",
    "#pip install ipynb\n",
    "#pip install jdc"
   ]
  },
  {
   "cell_type": "markdown",
   "metadata": {},
   "source": [
    "### Imports"
   ]
  },
  {
   "cell_type": "code",
   "execution_count": 3,
   "metadata": {},
   "outputs": [],
   "source": [
    "# import RunOFv4.ipynb \n",
    "from ipynb.fs.full.RunOpenFOAMv4 import *"
   ]
  },
  {
   "cell_type": "markdown",
   "metadata": {},
   "source": [
    "# Pymoo"
   ]
  },
  {
   "cell_type": "markdown",
   "metadata": {},
   "source": [
    "### Problem\n",
    "Runs OpenFOAM simulation for each individual in a generation.\n",
    "\n",
    "OpenFOAM tutorial: incompresible/icoFoam/cavity"
   ]
  },
  {
   "cell_type": "code",
   "execution_count": 4,
   "metadata": {},
   "outputs": [],
   "source": [
    "import numpy as np\n",
    "import os\n",
    "import io\n",
    "\n",
    "from pymoo.util.misc import stack\n",
    "from pymoo.model.problem import Problem\n",
    "\n",
    "from PyFoam.RunDictionary.ParsedParameterFile import ParsedParameterFile\n",
    "\n",
    "#import RunOFv4\n",
    "\n",
    "class MyProblem(Problem):\n",
    "\n",
    "    def __init__(self):\n",
    "        super().__init__(n_var=2,\n",
    "                         n_obj=2,\n",
    "                         n_constr=0,\n",
    "                                    # mu_x  mu_y\n",
    "                         xl=np.array([-0.3, 0]),\n",
    "                         xu=np.array([-0.1, 0.15]))\n",
    "\n",
    "    def _evaluate(self, x, out, *args, **kwargs):\n",
    "        ###### Initialize Generation ######\n",
    "        case = 'airfoil'\n",
    "        gen = callback.gen\n",
    "        \n",
    "        solver = 'simpleFoam'\n",
    "        mesher = 'blockMesh'\n",
    "        \n",
    "        # Maximum processors to be used \n",
    "        procLim = 4\n",
    "        # Number of processors for each individual (EQUAL or SMALLER than procLim)\n",
    "        nProc = 1\n",
    "        \n",
    "#         print('Gen: %i'%gen)\n",
    "#         print('   mu_x       mu_y')\n",
    "#         print(x)\n",
    "        \n",
    "        # create sim object for this generation and it's population\n",
    "        sim = RunOFv4(case, x, gen, solver, mesher, procLim, nProc)\n",
    "        \n",
    "        obj = sim.runGen()\n",
    "        \n",
    "#         print('Objectives')\n",
    "#         print('  Lift    Drag')\n",
    "#         for i in range(len(obj[:][0])):\n",
    "#             print('gen %i:'%i, end=' ')\n",
    "#             for j in range(len(obj[0][:])):\n",
    "#                 print('%.6f' %obj[i][j], end=' ')\n",
    "#             print('\\n')\n",
    "        \n",
    "        #out[\"F\"] = np.column_stack([sigmaX, sigmaY])\n",
    "        out['F'] = obj\n",
    "            \n",
    "        # objectives unconstrainted\n",
    "        #g1 = 2*(x[:, 0]-0.1) * (x[:, 0]-0.9) / 0.18\n",
    "        #g2 = - 20*(x[:, 0]-0.4) * (x[:, 0]-0.6) / 4.8\n",
    "        #out[\"G\"] = np.column_stack([g1, g2])\n",
    "        \n",
    "        \n",
    "    # --------------------------------------------------\n",
    "    # Pareto-front - not necessary but used for plotting\n",
    "    # --------------------------------------------------\n",
    "    def _calc_pareto_front(self, flatten=True, **kwargs):\n",
    "        f1_a = np.linspace(0.1**2, 0.4**2, 100)\n",
    "        f2_a = (np.sqrt(f1_a) - 1)**2\n",
    "\n",
    "        f1_b = np.linspace(0.6**2, 0.9**2, 100)\n",
    "        f2_b = (np.sqrt(f1_b) - 1)**2\n",
    "\n",
    "        a, b = np.column_stack([f1_a, f2_a]), np.column_stack([f1_b, f2_b])\n",
    "        return stack(a, b, flatten=flatten)\n",
    "\n",
    "    # --------------------------------------------------\n",
    "    # Pareto-set - not necessary but used for plotting\n",
    "    # --------------------------------------------------\n",
    "    def _calc_pareto_set(self, flatten=True, **kwargs):\n",
    "        x1_a = np.linspace(0.1, 0.4, 50)\n",
    "        x1_b = np.linspace(0.6, 0.9, 50)\n",
    "        x2 = np.zeros(50)\n",
    "\n",
    "        a, b = np.column_stack([x1_a, x2]), np.column_stack([x1_b, x2])\n",
    "        return stack(a,b, flatten=flatten)\n",
    "\n",
    "problem = MyProblem()"
   ]
  },
  {
   "cell_type": "markdown",
   "metadata": {},
   "source": [
    "### Algorithm"
   ]
  },
  {
   "cell_type": "code",
   "execution_count": 5,
   "metadata": {},
   "outputs": [],
   "source": [
    "from pymoo.algorithms.nsga2 import NSGA2\n",
    "from pymoo.factory import get_sampling, get_crossover, get_mutation\n",
    "\n",
    "algorithm = NSGA2(\n",
    "    pop_size=7,\n",
    "    #n_offsprings=2,\n",
    "    sampling=get_sampling(\"real_random\"),\n",
    "    crossover=get_crossover(\"real_sbx\", prob=0.9, eta=15),\n",
    "    mutation=get_mutation(\"real_pm\", eta=20),\n",
    "    eliminate_duplicates=True\n",
    ")"
   ]
  },
  {
   "cell_type": "markdown",
   "metadata": {},
   "source": [
    "### Termination Criteria"
   ]
  },
  {
   "cell_type": "markdown",
   "metadata": {},
   "source": [
    "from pymoo.factory import get_termination\n",
    "\n",
    "termination = get_termination(\"n_gen\", 2)"
   ]
  },
  {
   "cell_type": "markdown",
   "metadata": {},
   "source": [
    "### Callback"
   ]
  },
  {
   "cell_type": "code",
   "execution_count": 6,
   "metadata": {},
   "outputs": [],
   "source": [
    "from pymoo.model.callback import Callback\n",
    "\n",
    "class MyCallback(Callback):\n",
    "\n",
    "    def __init__(self) -> None:\n",
    "        super().__init__()\n",
    "        self.gen=0\n",
    "        self.data[\"best_obj1\"] = []\n",
    "        self.data['best_obj2'] = []\n",
    "        self.data['var'] = []\n",
    "        self.data['obj'] = []\n",
    "\n",
    "    def notify(self, algorithm):\n",
    "        self.data[\"best_obj1\"].append(algorithm.pop.get(\"F\")[:,0].min())\n",
    "        self.data['best_obj2'].append(algorithm.pop.get('F')[:,1].min())\n",
    "        self.data['var'].append(algorithm.pop.get('X'))\n",
    "        self.data['obj'].append(algorithm.pop.get('F'))\n",
    "        self.gen+=1\n",
    "        \n",
    "callback = MyCallback()"
   ]
  },
  {
   "cell_type": "markdown",
   "metadata": {},
   "source": [
    "### Display"
   ]
  },
  {
   "cell_type": "code",
   "execution_count": 8,
   "metadata": {},
   "outputs": [],
   "source": [
    "from pymoo.util.display import Display\n",
    "\n",
    "class MyDisplay(Display):\n",
    "    bestObj = []\n",
    "    def _do(self, problem, evaluator, algorithm):\n",
    "        super()._do(problem, evaluator, algorithm)\n",
    "        #self.output.append(\"metric_a\", np.mean(algorithm.pop.get(\"X\")))\n",
    "        #self.output.append(\"metric_b\", np.mean(algorithm.pop.get(\"F\")))\n",
    "        self.output.append('Best Lift [N]', np.mean(algorithm.pop.get(\"F\")[:,0].min()))\n",
    "        self.output.append('Best Drag [N]', np.mean(algorithm.pop.get(\"F\")[:,1].min()))\n",
    "        \n",
    "        #if"
   ]
  },
  {
   "cell_type": "markdown",
   "metadata": {},
   "source": [
    "### Solve"
   ]
  },
  {
   "cell_type": "code",
   "execution_count": null,
   "metadata": {
    "scrolled": false
   },
   "outputs": [],
   "source": [
    "from pymoo.optimize import minimize\n",
    "\n",
    "res = minimize(problem,\n",
    "               algorithm,\n",
    "               (\"n_gen\", 5),\n",
    "               callback=callback,\n",
    "               seed=1,\n",
    "               pf=problem.pareto_front(use_cache=False),\n",
    "               save_history=True,\n",
    "               display=MyDisplay(),\n",
    "               verbose=True\n",
    "              )"
   ]
  },
  {
   "cell_type": "code",
   "execution_count": null,
   "metadata": {},
   "outputs": [],
   "source": [
    "print('Variables:')\n",
    "print(callback.data['var'])\n",
    "print('Objectives:')\n",
    "print(callback.data['obj'])\n",
    "print('Best Objective 1:')\n",
    "for i in range(len(callback.data['best_obj1'])):\n",
    "    print('%.6f' %callback.data['best_obj1'][i])\n",
    "print('Best Objective 2:')\n",
    "for i in range(len(callback.data['best_obj2'])):\n",
    "    print('%.6f' %callback.data['best_obj2'][i])\n"
   ]
  },
  {
   "cell_type": "code",
   "execution_count": null,
   "metadata": {},
   "outputs": [],
   "source": [
    "#print(\"Time Elapsed:\")\n",
    "#print(res.time)\n",
    "print(\"Objectives:\")\n",
    "print(res.pop.get('F'))\n",
    "#print(res.F)\n",
    "print(\"Variables:\")\n",
    "print(res.X)"
   ]
  },
  {
   "cell_type": "markdown",
   "metadata": {},
   "source": [
    "# Visualize Data"
   ]
  },
  {
   "cell_type": "code",
   "execution_count": null,
   "metadata": {},
   "outputs": [],
   "source": [
    "%matplotlib inline \n",
    "# Figures are shown as static png images (optionally svg if configured)\n",
    "# %matplotlib notebook #or %matplotlib nbagg - Interactive Figures inside the notebook\n",
    "# %matplotlib widgets # Interactive Figures inside the notebook (requires jupyter-matplotlib to be installed)\n",
    "# %matplotlib tk #or %matplotlib qt etc. - GUI windows show the figure externally to the notebook with the given interactive backend\n"
   ]
  },
  {
   "cell_type": "code",
   "execution_count": null,
   "metadata": {},
   "outputs": [],
   "source": [
    "# the global factory method\n",
    "from pymoo.factory import get_visualization\n",
    "plot = get_visualization(\"scatter\")\n",
    "\n",
    "for gen in callback.data['obj']:\n",
    "    #print(gen)\n",
    "    plot.add(gen)\n",
    "\n",
    "#plot.add(res.pop.get('F'), color=\"green\", marker=\"x\")\n",
    "#print(res.pop.get('F'))\n",
    "#plot.add(B, color=\"red\", marker=\"*\")\n",
    "plot.show()"
   ]
  },
  {
   "cell_type": "markdown",
   "metadata": {},
   "source": [
    "import numpy as np\n",
    "\n",
    "A = np.random.random((20,2))\n",
    "B = np.random.random((20,2))\n",
    "\n",
    "from pymoo.factory import get_visualization\n",
    "plot = get_visualization(\"scatter\")\n",
    "plot.add(A, color=\"green\", marker=\"x\")\n",
    "plot.add(B, color=\"red\", marker=\"*\")\n",
    "plot.show()"
   ]
  },
  {
   "cell_type": "markdown",
   "metadata": {},
   "source": [
    "### Design + Objective Space"
   ]
  },
  {
   "cell_type": "code",
   "execution_count": null,
   "metadata": {},
   "outputs": [],
   "source": [
    "from pymoo.visualization.scatter import Scatter\n",
    "\n",
    "# get the pareto-set and pareto-front for plotting\n",
    "ps = problem.pareto_set(use_cache=False, flatten=False)\n",
    "pf = problem.pareto_front(use_cache=False, flatten=False)\n",
    "\n",
    "# Design Space\n",
    "plot = Scatter(title = \"Design Space\", axis_labels=\"x\")\n",
    "plot.add(res.X, s=30, facecolors='none', edgecolors='r')\n",
    "plot.add(ps, plot_type=\"line\", color=\"black\", alpha=0.7)\n",
    "plot.do()\n",
    "plot.apply(lambda ax: ax.set_xlim(-0.5, 1.5))\n",
    "plot.apply(lambda ax: ax.set_ylim(-2, 2))\n",
    "plot.show()\n",
    "\n",
    "# Objective Space\n",
    "plot = Scatter(title = \"Objective Space\")\n",
    "plot.add(res.F)\n",
    "plot.add(pf, plot_type=\"line\", color=\"black\", alpha=0.7)\n",
    "plot.show()"
   ]
  },
  {
   "cell_type": "markdown",
   "metadata": {},
   "source": [
    "### Best Result vs. Generations"
   ]
  },
  {
   "cell_type": "code",
   "execution_count": null,
   "metadata": {},
   "outputs": [],
   "source": [
    "import matplotlib.pyplot as plt\n",
    "matplotlib.use('GTK3Agg')\n",
    "\n",
    "val = [e.pop.get(\"F\").min() for e in res.history]\n",
    "plt.plot(np.arange(len(val)), val)\n",
    "plt.show()"
   ]
  },
  {
   "cell_type": "code",
   "execution_count": null,
   "metadata": {},
   "outputs": [],
   "source": []
  }
 ],
 "metadata": {
  "kernelspec": {
   "display_name": "Python 3",
   "language": "python",
   "name": "python3"
  },
  "language_info": {
   "codemirror_mode": {
    "name": "ipython",
    "version": 3
   },
   "file_extension": ".py",
   "mimetype": "text/x-python",
   "name": "python",
   "nbconvert_exporter": "python",
   "pygments_lexer": "ipython3",
   "version": "3.7.6"
  }
 },
 "nbformat": 4,
 "nbformat_minor": 4
}
